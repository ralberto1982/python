{
 "cells": [
  {
   "cell_type": "code",
   "execution_count": 5,
   "id": "f1c8e783",
   "metadata": {},
   "outputs": [
    {
     "name": "stdout",
     "output_type": "stream",
     "text": [
      "hello world\n"
     ]
    }
   ],
   "source": [
    "# print nos permite imprimir o mostrar informacion\n",
    "print('hello world')"
   ]
  },
  {
   "cell_type": "code",
   "execution_count": null,
   "id": "af1a5b24",
   "metadata": {},
   "outputs": [
    {
     "name": "stdout",
     "output_type": "stream",
     "text": [
      "Edwin como estas'me llamo edwin'isn'testo es una barra invertida \\\n"
     ]
    }
   ],
   "source": [
    "# strings o cadenas de texto es todo lo que va entre comillas\n",
    "# concatenasmos con + \n",
    "# con barra invertida puedo escribir \\ me permite que tome caracteres como parte del contenido\n",
    "# con la barra invertida \\n me permite salto de linea\n",
    "# con barra invertida mas n \\t me genera un tabulado o espacio\n",
    "# doble me permite que paython lo tome una barra\n",
    "print('Edwin' + ' '+ 'como estas' +  \"\\'me llamo edwin\\'\" + 'isn\\'t' + ' esto es una barra invertida \\\\')"
   ]
  }
 ],
 "metadata": {
  "kernelspec": {
   "display_name": "Python 3",
   "language": "python",
   "name": "python3"
  },
  "language_info": {
   "codemirror_mode": {
    "name": "ipython",
    "version": 3
   },
   "file_extension": ".py",
   "mimetype": "text/x-python",
   "name": "python",
   "nbconvert_exporter": "python",
   "pygments_lexer": "ipython3",
   "version": "3.13.4"
  }
 },
 "nbformat": 4,
 "nbformat_minor": 5
}
